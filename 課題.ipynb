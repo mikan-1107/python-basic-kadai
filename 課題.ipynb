{
  "nbformat": 4,
  "nbformat_minor": 0,
  "metadata": {
    "colab": {
      "provenance": []
    },
    "kernelspec": {
      "name": "python3",
      "display_name": "Python 3"
    },
    "language_info": {
      "name": "python"
    }
  },
  "cells": [
    {
      "cell_type": "code",
      "execution_count": 1,
      "metadata": {
        "colab": {
          "base_uri": "https://localhost:8080/"
        },
        "id": "rZ4jKv7lelPC",
        "outputId": "36ef8923-8d1e-4a94-9b72-d65a1a4270da"
      },
      "outputs": [
        {
          "output_type": "stream",
          "name": "stdout",
          "text": [
            "75.0cm²\n"
          ]
        }
      ],
      "source": [
        "jyouhen = 10\n",
        "kahen = 20\n",
        "takasa = 5\n",
        "\n",
        "daikei = (jyouhen+kahen)*takasa/2\n",
        "print(f\"{daikei}cm²\")\n"
      ]
    }
  ]
}