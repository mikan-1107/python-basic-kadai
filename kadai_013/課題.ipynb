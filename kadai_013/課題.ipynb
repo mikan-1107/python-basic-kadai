{
  "nbformat": 4,
  "nbformat_minor": 0,
  "metadata": {
    "colab": {
      "provenance": []
    },
    "kernelspec": {
      "name": "python3",
      "display_name": "Python 3"
    },
    "language_info": {
      "name": "python"
    }
  },
  "cells": [
    {
      "cell_type": "code",
      "source": [
        "def  add_two_arguments(price,consumption_tax):\n",
        "  total = price * (1 + consumption_tax)\n",
        "  print(f\"{total}円\")\n",
        "add_two_arguments(2000,0.1)\n"
      ],
      "metadata": {
        "colab": {
          "base_uri": "https://localhost:8080/"
        },
        "id": "YTGis4Z6rpQS",
        "outputId": "6e745c3d-33c0-4d60-aa5b-a676f649dab1"
      },
      "execution_count": 10,
      "outputs": [
        {
          "output_type": "stream",
          "name": "stdout",
          "text": [
            "2200.0円\n"
          ]
        }
      ]
    }
  ]
}