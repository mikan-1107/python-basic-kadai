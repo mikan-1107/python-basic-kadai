{
  "nbformat": 4,
  "nbformat_minor": 0,
  "metadata": {
    "colab": {
      "provenance": []
    },
    "kernelspec": {
      "name": "python3",
      "display_name": "Python 3"
    },
    "language_info": {
      "name": "python"
    }
  },
  "cells": [
    {
      "cell_type": "code",
      "source": [
        "def  add_two_arguments(price,consumption_tax):\n",
        "\n",
        "  total = price * (1 + consumption_tax)\n",
        "  return total\n",
        "\n",
        "add_two_arguments(2000,0.1)\n"
      ],
      "metadata": {
        "colab": {
          "base_uri": "https://localhost:8080/"
        },
        "id": "YTGis4Z6rpQS",
        "outputId": "f7d18f60-131d-4882-bff8-93f5ff4de001"
      },
      "execution_count": 3,
      "outputs": [
        {
          "output_type": "execute_result",
          "data": {
            "text/plain": [
              "2200.0"
            ]
          },
          "metadata": {},
          "execution_count": 3
        }
      ]
    }
  ]
}