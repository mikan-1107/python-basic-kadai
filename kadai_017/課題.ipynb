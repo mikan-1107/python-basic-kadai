{
  "nbformat": 4,
  "nbformat_minor": 0,
  "metadata": {
    "colab": {
      "provenance": []
    },
    "kernelspec": {
      "name": "python3",
      "display_name": "Python 3"
    },
    "language_info": {
      "name": "python"
    }
  },
  "cells": [
    {
      "cell_type": "code",
      "source": [
        "class Human:\n",
        "  def __init__(self, name, age):\n",
        "    self.name = name\n",
        "    self.age = age\n",
        "  def check_adult(self):\n",
        "    if self.age >= 20:\n",
        "      print(f\"{self.name}は大人です。\")\n",
        "    if self.age < 20:\n",
        "      print(f\"{self.name}は大人ではありません。\")\n",
        "humans = [\n",
        "    Human(\"侍太郎\",22),\n",
        "    Human(\"侍一郎\",20),\n",
        "    Human(\"侍二郎\",18)\n",
        "]\n",
        "for human in humans:\n",
        "  human.check_adult()"
      ],
      "metadata": {
        "colab": {
          "base_uri": "https://localhost:8080/"
        },
        "id": "qFpG6F0qAtHK",
        "outputId": "911ea7d1-8668-406b-e657-21a3d81b3ba2"
      },
      "execution_count": 12,
      "outputs": [
        {
          "output_type": "stream",
          "name": "stdout",
          "text": [
            "侍太郎は大人です。\n",
            "侍一郎は大人です。\n",
            "侍二郎は大人ではありません。\n"
          ]
        }
      ]
    }
  ]
}